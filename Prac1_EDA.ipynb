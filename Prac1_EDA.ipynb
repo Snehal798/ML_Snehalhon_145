{
 "cells": [
  {
   "cell_type": "code",
   "execution_count": 1,
   "metadata": {},
   "outputs": [],
   "source": [
    "import pandas as pd\n",
    "import numpy as np\n",
    "import matplotlib.pyplot as plt\n",
    "import seaborn as sns\n"
   ]
  },
  {
   "cell_type": "code",
   "execution_count": 2,
   "metadata": {},
   "outputs": [],
   "source": [
    "df = pd.read_csv(r\"c:\\Users\\DELL\\Downloads\\student_participation_feedback_dataset.csv\")"
   ]
  },
  {
   "cell_type": "code",
   "execution_count": 3,
   "metadata": {},
   "outputs": [
    {
     "data": {
      "text/html": [
       "<div>\n",
       "<style scoped>\n",
       "    .dataframe tbody tr th:only-of-type {\n",
       "        vertical-align: middle;\n",
       "    }\n",
       "\n",
       "    .dataframe tbody tr th {\n",
       "        vertical-align: top;\n",
       "    }\n",
       "\n",
       "    .dataframe thead th {\n",
       "        text-align: right;\n",
       "    }\n",
       "</style>\n",
       "<table border=\"1\" class=\"dataframe\">\n",
       "  <thead>\n",
       "    <tr style=\"text-align: right;\">\n",
       "      <th></th>\n",
       "      <th>student_id</th>\n",
       "      <th>interaction_duration (min)</th>\n",
       "      <th>feedback_rating (1-5)</th>\n",
       "      <th>assignments_completed</th>\n",
       "      <th>total_interactions</th>\n",
       "      <th>quiz_score (%)</th>\n",
       "      <th>final_grade</th>\n",
       "      <th>engagement_score</th>\n",
       "      <th>age</th>\n",
       "      <th>learning_style</th>\n",
       "      <th>participation_label</th>\n",
       "    </tr>\n",
       "  </thead>\n",
       "  <tbody>\n",
       "    <tr>\n",
       "      <th>0</th>\n",
       "      <td>1</td>\n",
       "      <td>58</td>\n",
       "      <td>4</td>\n",
       "      <td>4</td>\n",
       "      <td>6</td>\n",
       "      <td>84</td>\n",
       "      <td>C</td>\n",
       "      <td>77</td>\n",
       "      <td>24</td>\n",
       "      <td>Kinesthetic</td>\n",
       "      <td>Low</td>\n",
       "    </tr>\n",
       "    <tr>\n",
       "      <th>1</th>\n",
       "      <td>2</td>\n",
       "      <td>48</td>\n",
       "      <td>3</td>\n",
       "      <td>5</td>\n",
       "      <td>6</td>\n",
       "      <td>64</td>\n",
       "      <td>B</td>\n",
       "      <td>81</td>\n",
       "      <td>20</td>\n",
       "      <td>Visual</td>\n",
       "      <td>High</td>\n",
       "    </tr>\n",
       "    <tr>\n",
       "      <th>2</th>\n",
       "      <td>3</td>\n",
       "      <td>34</td>\n",
       "      <td>5</td>\n",
       "      <td>1</td>\n",
       "      <td>7</td>\n",
       "      <td>96</td>\n",
       "      <td>B</td>\n",
       "      <td>56</td>\n",
       "      <td>21</td>\n",
       "      <td>Kinesthetic</td>\n",
       "      <td>High</td>\n",
       "    </tr>\n",
       "    <tr>\n",
       "      <th>3</th>\n",
       "      <td>4</td>\n",
       "      <td>27</td>\n",
       "      <td>3</td>\n",
       "      <td>4</td>\n",
       "      <td>12</td>\n",
       "      <td>71</td>\n",
       "      <td>A</td>\n",
       "      <td>78</td>\n",
       "      <td>21</td>\n",
       "      <td>Kinesthetic</td>\n",
       "      <td>High</td>\n",
       "    </tr>\n",
       "    <tr>\n",
       "      <th>4</th>\n",
       "      <td>5</td>\n",
       "      <td>40</td>\n",
       "      <td>4</td>\n",
       "      <td>5</td>\n",
       "      <td>5</td>\n",
       "      <td>63</td>\n",
       "      <td>C</td>\n",
       "      <td>57</td>\n",
       "      <td>22</td>\n",
       "      <td>Visual</td>\n",
       "      <td>High</td>\n",
       "    </tr>\n",
       "  </tbody>\n",
       "</table>\n",
       "</div>"
      ],
      "text/plain": [
       "   student_id  interaction_duration (min)  feedback_rating (1-5)  \\\n",
       "0           1                          58                      4   \n",
       "1           2                          48                      3   \n",
       "2           3                          34                      5   \n",
       "3           4                          27                      3   \n",
       "4           5                          40                      4   \n",
       "\n",
       "   assignments_completed  total_interactions  quiz_score (%) final_grade  \\\n",
       "0                      4                   6              84           C   \n",
       "1                      5                   6              64           B   \n",
       "2                      1                   7              96           B   \n",
       "3                      4                  12              71           A   \n",
       "4                      5                   5              63           C   \n",
       "\n",
       "   engagement_score  age learning_style participation_label  \n",
       "0                77   24    Kinesthetic                 Low  \n",
       "1                81   20         Visual                High  \n",
       "2                56   21    Kinesthetic                High  \n",
       "3                78   21    Kinesthetic                High  \n",
       "4                57   22         Visual                High  "
      ]
     },
     "execution_count": 3,
     "metadata": {},
     "output_type": "execute_result"
    }
   ],
   "source": [
    "df.head()"
   ]
  },
  {
   "cell_type": "code",
   "execution_count": 4,
   "metadata": {},
   "outputs": [
    {
     "data": {
      "text/html": [
       "<div>\n",
       "<style scoped>\n",
       "    .dataframe tbody tr th:only-of-type {\n",
       "        vertical-align: middle;\n",
       "    }\n",
       "\n",
       "    .dataframe tbody tr th {\n",
       "        vertical-align: top;\n",
       "    }\n",
       "\n",
       "    .dataframe thead th {\n",
       "        text-align: right;\n",
       "    }\n",
       "</style>\n",
       "<table border=\"1\" class=\"dataframe\">\n",
       "  <thead>\n",
       "    <tr style=\"text-align: right;\">\n",
       "      <th></th>\n",
       "      <th>student_id</th>\n",
       "      <th>interaction_duration (min)</th>\n",
       "      <th>feedback_rating (1-5)</th>\n",
       "      <th>assignments_completed</th>\n",
       "      <th>total_interactions</th>\n",
       "      <th>quiz_score (%)</th>\n",
       "      <th>final_grade</th>\n",
       "      <th>engagement_score</th>\n",
       "      <th>age</th>\n",
       "      <th>learning_style</th>\n",
       "      <th>participation_label</th>\n",
       "    </tr>\n",
       "  </thead>\n",
       "  <tbody>\n",
       "    <tr>\n",
       "      <th>195</th>\n",
       "      <td>196</td>\n",
       "      <td>41</td>\n",
       "      <td>2</td>\n",
       "      <td>5</td>\n",
       "      <td>13</td>\n",
       "      <td>82</td>\n",
       "      <td>C</td>\n",
       "      <td>84</td>\n",
       "      <td>20</td>\n",
       "      <td>Auditory</td>\n",
       "      <td>Medium</td>\n",
       "    </tr>\n",
       "    <tr>\n",
       "      <th>196</th>\n",
       "      <td>197</td>\n",
       "      <td>30</td>\n",
       "      <td>3</td>\n",
       "      <td>3</td>\n",
       "      <td>7</td>\n",
       "      <td>74</td>\n",
       "      <td>B</td>\n",
       "      <td>67</td>\n",
       "      <td>22</td>\n",
       "      <td>Visual</td>\n",
       "      <td>Low</td>\n",
       "    </tr>\n",
       "    <tr>\n",
       "      <th>197</th>\n",
       "      <td>198</td>\n",
       "      <td>35</td>\n",
       "      <td>5</td>\n",
       "      <td>4</td>\n",
       "      <td>4</td>\n",
       "      <td>66</td>\n",
       "      <td>B</td>\n",
       "      <td>88</td>\n",
       "      <td>22</td>\n",
       "      <td>Auditory</td>\n",
       "      <td>Very High</td>\n",
       "    </tr>\n",
       "    <tr>\n",
       "      <th>198</th>\n",
       "      <td>199</td>\n",
       "      <td>52</td>\n",
       "      <td>1</td>\n",
       "      <td>5</td>\n",
       "      <td>11</td>\n",
       "      <td>82</td>\n",
       "      <td>A</td>\n",
       "      <td>66</td>\n",
       "      <td>18</td>\n",
       "      <td>Auditory</td>\n",
       "      <td>High</td>\n",
       "    </tr>\n",
       "    <tr>\n",
       "      <th>199</th>\n",
       "      <td>200</td>\n",
       "      <td>28</td>\n",
       "      <td>5</td>\n",
       "      <td>4</td>\n",
       "      <td>4</td>\n",
       "      <td>96</td>\n",
       "      <td>C</td>\n",
       "      <td>63</td>\n",
       "      <td>23</td>\n",
       "      <td>Visual</td>\n",
       "      <td>High</td>\n",
       "    </tr>\n",
       "  </tbody>\n",
       "</table>\n",
       "</div>"
      ],
      "text/plain": [
       "     student_id  interaction_duration (min)  feedback_rating (1-5)  \\\n",
       "195         196                          41                      2   \n",
       "196         197                          30                      3   \n",
       "197         198                          35                      5   \n",
       "198         199                          52                      1   \n",
       "199         200                          28                      5   \n",
       "\n",
       "     assignments_completed  total_interactions  quiz_score (%) final_grade  \\\n",
       "195                      5                  13              82           C   \n",
       "196                      3                   7              74           B   \n",
       "197                      4                   4              66           B   \n",
       "198                      5                  11              82           A   \n",
       "199                      4                   4              96           C   \n",
       "\n",
       "     engagement_score  age learning_style participation_label  \n",
       "195                84   20       Auditory              Medium  \n",
       "196                67   22         Visual                 Low  \n",
       "197                88   22       Auditory           Very High  \n",
       "198                66   18       Auditory                High  \n",
       "199                63   23         Visual                High  "
      ]
     },
     "execution_count": 4,
     "metadata": {},
     "output_type": "execute_result"
    }
   ],
   "source": [
    "df.tail()"
   ]
  },
  {
   "cell_type": "code",
   "execution_count": 6,
   "metadata": {},
   "outputs": [
    {
     "data": {
      "text/plain": [
       "Index(['student_id', 'interaction_duration (min)', 'feedback_rating (1-5)',\n",
       "       'assignments_completed', 'total_interactions', 'quiz_score (%)',\n",
       "       'final_grade', 'engagement_score', 'age', 'learning_style',\n",
       "       'participation_label'],\n",
       "      dtype='object')"
      ]
     },
     "execution_count": 6,
     "metadata": {},
     "output_type": "execute_result"
    }
   ],
   "source": [
    "df.columns"
   ]
  },
  {
   "cell_type": "code",
   "execution_count": 7,
   "metadata": {},
   "outputs": [
    {
     "data": {
      "text/plain": [
       "student_id                     int64\n",
       "interaction_duration (min)     int64\n",
       "feedback_rating (1-5)          int64\n",
       "assignments_completed          int64\n",
       "total_interactions             int64\n",
       "quiz_score (%)                 int64\n",
       "final_grade                   object\n",
       "engagement_score               int64\n",
       "age                            int64\n",
       "learning_style                object\n",
       "participation_label           object\n",
       "dtype: object"
      ]
     },
     "execution_count": 7,
     "metadata": {},
     "output_type": "execute_result"
    }
   ],
   "source": [
    "df.dtypes"
   ]
  },
  {
   "cell_type": "code",
   "execution_count": 9,
   "metadata": {},
   "outputs": [
    {
     "data": {
      "text/plain": [
       "(200, 11)"
      ]
     },
     "execution_count": 9,
     "metadata": {},
     "output_type": "execute_result"
    }
   ],
   "source": [
    "df.shape"
   ]
  },
  {
   "cell_type": "code",
   "execution_count": 10,
   "metadata": {},
   "outputs": [
    {
     "data": {
      "text/plain": [
       "<bound method DataFrame.info of      student_id  interaction_duration (min)  feedback_rating (1-5)  \\\n",
       "0             1                          58                      4   \n",
       "1             2                          48                      3   \n",
       "2             3                          34                      5   \n",
       "3             4                          27                      3   \n",
       "4             5                          40                      4   \n",
       "..          ...                         ...                    ...   \n",
       "195         196                          41                      2   \n",
       "196         197                          30                      3   \n",
       "197         198                          35                      5   \n",
       "198         199                          52                      1   \n",
       "199         200                          28                      5   \n",
       "\n",
       "     assignments_completed  total_interactions  quiz_score (%) final_grade  \\\n",
       "0                        4                   6              84           C   \n",
       "1                        5                   6              64           B   \n",
       "2                        1                   7              96           B   \n",
       "3                        4                  12              71           A   \n",
       "4                        5                   5              63           C   \n",
       "..                     ...                 ...             ...         ...   \n",
       "195                      5                  13              82           C   \n",
       "196                      3                   7              74           B   \n",
       "197                      4                   4              66           B   \n",
       "198                      5                  11              82           A   \n",
       "199                      4                   4              96           C   \n",
       "\n",
       "     engagement_score  age learning_style participation_label  \n",
       "0                  77   24    Kinesthetic                 Low  \n",
       "1                  81   20         Visual                High  \n",
       "2                  56   21    Kinesthetic                High  \n",
       "3                  78   21    Kinesthetic                High  \n",
       "4                  57   22         Visual                High  \n",
       "..                ...  ...            ...                 ...  \n",
       "195                84   20       Auditory              Medium  \n",
       "196                67   22         Visual                 Low  \n",
       "197                88   22       Auditory           Very High  \n",
       "198                66   18       Auditory                High  \n",
       "199                63   23         Visual                High  \n",
       "\n",
       "[200 rows x 11 columns]>"
      ]
     },
     "execution_count": 10,
     "metadata": {},
     "output_type": "execute_result"
    }
   ],
   "source": [
    "df.info"
   ]
  },
  {
   "cell_type": "code",
   "execution_count": null,
   "metadata": {},
   "outputs": [],
   "source": []
  },
  {
   "cell_type": "code",
   "execution_count": 14,
   "metadata": {},
   "outputs": [
    {
     "name": "stderr",
     "output_type": "stream",
     "text": [
      "C:\\Users\\DELL\\AppData\\Local\\Temp\\ipykernel_7200\\1746756022.py:6: UserWarning: FigureCanvasAgg is non-interactive, and thus cannot be shown\n",
      "  fig.show()\n"
     ]
    },
    {
     "data": {
      "image/png": "[encoded data removed]",
      "text/plain": [
       "<Figure size 640x480 with 1 Axes>"
      ]
     },
     "metadata": {},
     "output_type": "display_data"
    }
   ],
   "source": [
    "fig, ax = plt.subplots()\n",
    "ax.scatter(df[\"engagement_score\"], df[\"age\"])\n",
    "ax.set_title(\"Scatter Plot of score\")\n",
    "ax.set_xlabel(\"engagement score\")\n",
    "ax.set_ylabel(\"Average age\")\n",
    "fig.show()"
   ]
  },
  {
   "cell_type": "code",
   "execution_count": 16,
   "metadata": {},
   "outputs": [
    {
     "name": "stderr",
     "output_type": "stream",
     "text": [
      "C:\\Users\\DELL\\AppData\\Local\\Temp\\ipykernel_7200\\385738540.py:9: UserWarning: FigureCanvasAgg is non-interactive, and thus cannot be shown\n",
      "  fig.show()\n"
     ]
    },
    {
     "data": {
      "image/png": "[encoded data removed]",
      "text/plain": [
       "<Figure size 640x480 with 1 Axes>"
      ]
     },
     "metadata": {},
     "output_type": "display_data"
    }
   ],
   "source": [
    "fig, ax = plt.subplots()\n",
    "length = df[\"engagement_score\"].value_counts(bins=7).sort_index()\n",
    "length.plot.bar(\n",
    "    ax=ax,\n",
    "    title=\" Engagement_Score Distribution\",\n",
    "    xlabel=\"Time Range (mins)\",\n",
    "    ylabel=\"Count\",\n",
    ")\n",
    "fig.show()"
   ]
  },
  {
   "cell_type": "code",
   "execution_count": null,
   "metadata": {},
   "outputs": [],
   "source": []
  },
  {
   "cell_type": "code",
   "execution_count": 26,
   "metadata": {},
   "outputs": [
    {
     "data": {
      "text/html": [
       "<div>\n",
       "<style scoped>\n",
       "    .dataframe tbody tr th:only-of-type {\n",
       "        vertical-align: middle;\n",
       "    }\n",
       "\n",
       "    .dataframe tbody tr th {\n",
       "        vertical-align: top;\n",
       "    }\n",
       "\n",
       "    .dataframe thead th {\n",
       "        text-align: right;\n",
       "    }\n",
       "</style>\n",
       "<table border=\"1\" class=\"dataframe\">\n",
       "  <thead>\n",
       "    <tr style=\"text-align: right;\">\n",
       "      <th></th>\n",
       "      <th>engagement_score</th>\n",
       "      <th>age</th>\n",
       "    </tr>\n",
       "  </thead>\n",
       "  <tbody>\n",
       "    <tr>\n",
       "      <th>count</th>\n",
       "      <td>200.000000</td>\n",
       "      <td>200.000000</td>\n",
       "    </tr>\n",
       "    <tr>\n",
       "      <th>mean</th>\n",
       "      <td>70.375000</td>\n",
       "      <td>20.865000</td>\n",
       "    </tr>\n",
       "    <tr>\n",
       "      <th>std</th>\n",
       "      <td>11.330768</td>\n",
       "      <td>1.961123</td>\n",
       "    </tr>\n",
       "    <tr>\n",
       "      <th>min</th>\n",
       "      <td>50.000000</td>\n",
       "      <td>18.000000</td>\n",
       "    </tr>\n",
       "    <tr>\n",
       "      <th>25%</th>\n",
       "      <td>60.750000</td>\n",
       "      <td>19.000000</td>\n",
       "    </tr>\n",
       "    <tr>\n",
       "      <th>50%</th>\n",
       "      <td>70.500000</td>\n",
       "      <td>21.000000</td>\n",
       "    </tr>\n",
       "    <tr>\n",
       "      <th>75%</th>\n",
       "      <td>80.250000</td>\n",
       "      <td>22.000000</td>\n",
       "    </tr>\n",
       "    <tr>\n",
       "      <th>max</th>\n",
       "      <td>89.000000</td>\n",
       "      <td>24.000000</td>\n",
       "    </tr>\n",
       "  </tbody>\n",
       "</table>\n",
       "</div>"
      ],
      "text/plain": [
       "       engagement_score         age\n",
       "count        200.000000  200.000000\n",
       "mean          70.375000   20.865000\n",
       "std           11.330768    1.961123\n",
       "min           50.000000   18.000000\n",
       "25%           60.750000   19.000000\n",
       "50%           70.500000   21.000000\n",
       "75%           80.250000   22.000000\n",
       "max           89.000000   24.000000"
      ]
     },
     "execution_count": 26,
     "metadata": {},
     "output_type": "execute_result"
    }
   ],
   "source": [
    "df[[\"engagement_score\", \"age\"]].describe()\n"
   ]
  },
  {
   "cell_type": "code",
   "execution_count": null,
   "metadata": {},
   "outputs": [],
   "source": []
  }
 ],
 "metadata": {
  "kernelspec": {
   "display_name": "Python 3",
   "language": "python",
   "name": "python3"
  },
  "language_info": {
   "codemirror_mode": {
    "name": "ipython",
    "version": 3
   },
   "file_extension": ".py",
   "mimetype": "text/x-python",
   "name": "python",
   "nbconvert_exporter": "python",
   "pygments_lexer": "ipython3",
   "version": "3.12.0"
  }
 },
 "nbformat": 4,
 "nbformat_minor": 2
}
