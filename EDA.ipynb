{
 "cells": [
  {
   "cell_type": "code",
   "execution_count": 3,
   "metadata": {},
   "outputs": [],
   "source": [
    "import pandas as pd\n",
    "import numpy as np\n",
    "import matplotlib.pyplot as plt\n",
    "import seaborn as sns\n",
    "#to ignore warnings\n",
    "import warnings\n",
    "warnings.filterwarnings('ignore')\n"
   ]
  },
  {
   "cell_type": "code",
   "execution_count": 4,
   "metadata": {},
   "outputs": [],
   "source": [
    "data = pd.read_csv(r\"c:\\Users\\DELL\\Downloads\\student_participation_feedback_dataset.csv\")"
   ]
  },
  {
   "cell_type": "code",
   "execution_count": 5,
   "metadata": {},
   "outputs": [
    {
     "data": {
      "text/html": [
       "<div>\n",
       "<style scoped>\n",
       "    .dataframe tbody tr th:only-of-type {\n",
       "        vertical-align: middle;\n",
       "    }\n",
       "\n",
       "    .dataframe tbody tr th {\n",
       "        vertical-align: top;\n",
       "    }\n",
       "\n",
       "    .dataframe thead th {\n",
       "        text-align: right;\n",
       "    }\n",
       "</style>\n",
       "<table border=\"1\" class=\"dataframe\">\n",
       "  <thead>\n",
       "    <tr style=\"text-align: right;\">\n",
       "      <th></th>\n",
       "      <th>student_id</th>\n",
       "      <th>interaction_duration (min)</th>\n",
       "      <th>feedback_rating (1-5)</th>\n",
       "      <th>assignments_completed</th>\n",
       "      <th>total_interactions</th>\n",
       "      <th>quiz_score (%)</th>\n",
       "      <th>final_grade</th>\n",
       "      <th>engagement_score</th>\n",
       "      <th>age</th>\n",
       "      <th>learning_style</th>\n",
       "      <th>participation_label</th>\n",
       "    </tr>\n",
       "  </thead>\n",
       "  <tbody>\n",
       "    <tr>\n",
       "      <th>0</th>\n",
       "      <td>1</td>\n",
       "      <td>58</td>\n",
       "      <td>4</td>\n",
       "      <td>4</td>\n",
       "      <td>6</td>\n",
       "      <td>84</td>\n",
       "      <td>C</td>\n",
       "      <td>77</td>\n",
       "      <td>24</td>\n",
       "      <td>Kinesthetic</td>\n",
       "      <td>Low</td>\n",
       "    </tr>\n",
       "    <tr>\n",
       "      <th>1</th>\n",
       "      <td>2</td>\n",
       "      <td>48</td>\n",
       "      <td>3</td>\n",
       "      <td>5</td>\n",
       "      <td>6</td>\n",
       "      <td>64</td>\n",
       "      <td>B</td>\n",
       "      <td>81</td>\n",
       "      <td>20</td>\n",
       "      <td>Visual</td>\n",
       "      <td>High</td>\n",
       "    </tr>\n",
       "    <tr>\n",
       "      <th>2</th>\n",
       "      <td>3</td>\n",
       "      <td>34</td>\n",
       "      <td>5</td>\n",
       "      <td>1</td>\n",
       "      <td>7</td>\n",
       "      <td>96</td>\n",
       "      <td>B</td>\n",
       "      <td>56</td>\n",
       "      <td>21</td>\n",
       "      <td>Kinesthetic</td>\n",
       "      <td>High</td>\n",
       "    </tr>\n",
       "    <tr>\n",
       "      <th>3</th>\n",
       "      <td>4</td>\n",
       "      <td>27</td>\n",
       "      <td>3</td>\n",
       "      <td>4</td>\n",
       "      <td>12</td>\n",
       "      <td>71</td>\n",
       "      <td>A</td>\n",
       "      <td>78</td>\n",
       "      <td>21</td>\n",
       "      <td>Kinesthetic</td>\n",
       "      <td>High</td>\n",
       "    </tr>\n",
       "    <tr>\n",
       "      <th>4</th>\n",
       "      <td>5</td>\n",
       "      <td>40</td>\n",
       "      <td>4</td>\n",
       "      <td>5</td>\n",
       "      <td>5</td>\n",
       "      <td>63</td>\n",
       "      <td>C</td>\n",
       "      <td>57</td>\n",
       "      <td>22</td>\n",
       "      <td>Visual</td>\n",
       "      <td>High</td>\n",
       "    </tr>\n",
       "  </tbody>\n",
       "</table>\n",
       "</div>"
      ],
      "text/plain": [
       "   student_id  interaction_duration (min)  feedback_rating (1-5)  \\\n",
       "0           1                          58                      4   \n",
       "1           2                          48                      3   \n",
       "2           3                          34                      5   \n",
       "3           4                          27                      3   \n",
       "4           5                          40                      4   \n",
       "\n",
       "   assignments_completed  total_interactions  quiz_score (%) final_grade  \\\n",
       "0                      4                   6              84           C   \n",
       "1                      5                   6              64           B   \n",
       "2                      1                   7              96           B   \n",
       "3                      4                  12              71           A   \n",
       "4                      5                   5              63           C   \n",
       "\n",
       "   engagement_score  age learning_style participation_label  \n",
       "0                77   24    Kinesthetic                 Low  \n",
       "1                81   20         Visual                High  \n",
       "2                56   21    Kinesthetic                High  \n",
       "3                78   21    Kinesthetic                High  \n",
       "4                57   22         Visual                High  "
      ]
     },
     "execution_count": 5,
     "metadata": {},
     "output_type": "execute_result"
    }
   ],
   "source": [
    "data.head()"
   ]
  },
  {
   "cell_type": "code",
   "execution_count": 6,
   "metadata": {},
   "outputs": [
    {
     "data": {
      "text/html": [
       "<div>\n",
       "<style scoped>\n",
       "    .dataframe tbody tr th:only-of-type {\n",
       "        vertical-align: middle;\n",
       "    }\n",
       "\n",
       "    .dataframe tbody tr th {\n",
       "        vertical-align: top;\n",
       "    }\n",
       "\n",
       "    .dataframe thead th {\n",
       "        text-align: right;\n",
       "    }\n",
       "</style>\n",
       "<table border=\"1\" class=\"dataframe\">\n",
       "  <thead>\n",
       "    <tr style=\"text-align: right;\">\n",
       "      <th></th>\n",
       "      <th>student_id</th>\n",
       "      <th>interaction_duration (min)</th>\n",
       "      <th>feedback_rating (1-5)</th>\n",
       "      <th>assignments_completed</th>\n",
       "      <th>total_interactions</th>\n",
       "      <th>quiz_score (%)</th>\n",
       "      <th>final_grade</th>\n",
       "      <th>engagement_score</th>\n",
       "      <th>age</th>\n",
       "      <th>learning_style</th>\n",
       "      <th>participation_label</th>\n",
       "    </tr>\n",
       "  </thead>\n",
       "  <tbody>\n",
       "    <tr>\n",
       "      <th>195</th>\n",
       "      <td>196</td>\n",
       "      <td>41</td>\n",
       "      <td>2</td>\n",
       "      <td>5</td>\n",
       "      <td>13</td>\n",
       "      <td>82</td>\n",
       "      <td>C</td>\n",
       "      <td>84</td>\n",
       "      <td>20</td>\n",
       "      <td>Auditory</td>\n",
       "      <td>Medium</td>\n",
       "    </tr>\n",
       "    <tr>\n",
       "      <th>196</th>\n",
       "      <td>197</td>\n",
       "      <td>30</td>\n",
       "      <td>3</td>\n",
       "      <td>3</td>\n",
       "      <td>7</td>\n",
       "      <td>74</td>\n",
       "      <td>B</td>\n",
       "      <td>67</td>\n",
       "      <td>22</td>\n",
       "      <td>Visual</td>\n",
       "      <td>Low</td>\n",
       "    </tr>\n",
       "    <tr>\n",
       "      <th>197</th>\n",
       "      <td>198</td>\n",
       "      <td>35</td>\n",
       "      <td>5</td>\n",
       "      <td>4</td>\n",
       "      <td>4</td>\n",
       "      <td>66</td>\n",
       "      <td>B</td>\n",
       "      <td>88</td>\n",
       "      <td>22</td>\n",
       "      <td>Auditory</td>\n",
       "      <td>Very High</td>\n",
       "    </tr>\n",
       "    <tr>\n",
       "      <th>198</th>\n",
       "      <td>199</td>\n",
       "      <td>52</td>\n",
       "      <td>1</td>\n",
       "      <td>5</td>\n",
       "      <td>11</td>\n",
       "      <td>82</td>\n",
       "      <td>A</td>\n",
       "      <td>66</td>\n",
       "      <td>18</td>\n",
       "      <td>Auditory</td>\n",
       "      <td>High</td>\n",
       "    </tr>\n",
       "    <tr>\n",
       "      <th>199</th>\n",
       "      <td>200</td>\n",
       "      <td>28</td>\n",
       "      <td>5</td>\n",
       "      <td>4</td>\n",
       "      <td>4</td>\n",
       "      <td>96</td>\n",
       "      <td>C</td>\n",
       "      <td>63</td>\n",
       "      <td>23</td>\n",
       "      <td>Visual</td>\n",
       "      <td>High</td>\n",
       "    </tr>\n",
       "  </tbody>\n",
       "</table>\n",
       "</div>"
      ],
      "text/plain": [
       "     student_id  interaction_duration (min)  feedback_rating (1-5)  \\\n",
       "195         196                          41                      2   \n",
       "196         197                          30                      3   \n",
       "197         198                          35                      5   \n",
       "198         199                          52                      1   \n",
       "199         200                          28                      5   \n",
       "\n",
       "     assignments_completed  total_interactions  quiz_score (%) final_grade  \\\n",
       "195                      5                  13              82           C   \n",
       "196                      3                   7              74           B   \n",
       "197                      4                   4              66           B   \n",
       "198                      5                  11              82           A   \n",
       "199                      4                   4              96           C   \n",
       "\n",
       "     engagement_score  age learning_style participation_label  \n",
       "195                84   20       Auditory              Medium  \n",
       "196                67   22         Visual                 Low  \n",
       "197                88   22       Auditory           Very High  \n",
       "198                66   18       Auditory                High  \n",
       "199                63   23         Visual                High  "
      ]
     },
     "execution_count": 6,
     "metadata": {},
     "output_type": "execute_result"
    }
   ],
   "source": [
    "data.tail()"
   ]
  },
  {
   "cell_type": "code",
   "execution_count": 7,
   "metadata": {},
   "outputs": [
    {
     "name": "stdout",
     "output_type": "stream",
     "text": [
      "<class 'pandas.core.frame.DataFrame'>\n",
      "RangeIndex: 200 entries, 0 to 199\n",
      "Data columns (total 11 columns):\n",
      " #   Column                      Non-Null Count  Dtype \n",
      "---  ------                      --------------  ----- \n",
      " 0   student_id                  200 non-null    int64 \n",
      " 1   interaction_duration (min)  200 non-null    int64 \n",
      " 2   feedback_rating (1-5)       200 non-null    int64 \n",
      " 3   assignments_completed       200 non-null    int64 \n",
      " 4   total_interactions          200 non-null    int64 \n",
      " 5   quiz_score (%)              200 non-null    int64 \n",
      " 6   final_grade                 200 non-null    object\n",
      " 7   engagement_score            200 non-null    int64 \n",
      " 8   age                         200 non-null    int64 \n",
      " 9   learning_style              200 non-null    object\n",
      " 10  participation_label         200 non-null    object\n",
      "dtypes: int64(8), object(3)\n",
      "memory usage: 17.3+ KB\n"
     ]
    }
   ],
   "source": [
    "data.info()"
   ]
  },
  {
   "cell_type": "code",
   "execution_count": 8,
   "metadata": {},
   "outputs": [
    {
     "data": {
      "text/plain": [
       "2200"
      ]
     },
     "execution_count": 8,
     "metadata": {},
     "output_type": "execute_result"
    }
   ],
   "source": [
    "data.size"
   ]
  },
  {
   "cell_type": "code",
   "execution_count": 9,
   "metadata": {},
   "outputs": [
    {
     "data": {
      "text/plain": [
       "(200, 11)"
      ]
     },
     "execution_count": 9,
     "metadata": {},
     "output_type": "execute_result"
    }
   ],
   "source": [
    "data.shape"
   ]
  },
  {
   "cell_type": "code",
   "execution_count": 10,
   "metadata": {},
   "outputs": [
    {
     "data": {
      "text/plain": [
       "student_id                     int64\n",
       "interaction_duration (min)     int64\n",
       "feedback_rating (1-5)          int64\n",
       "assignments_completed          int64\n",
       "total_interactions             int64\n",
       "quiz_score (%)                 int64\n",
       "final_grade                   object\n",
       "engagement_score               int64\n",
       "age                            int64\n",
       "learning_style                object\n",
       "participation_label           object\n",
       "dtype: object"
      ]
     },
     "execution_count": 10,
     "metadata": {},
     "output_type": "execute_result"
    }
   ],
   "source": [
    "data.dtypes"
   ]
  },
  {
   "cell_type": "code",
   "execution_count": null,
   "metadata": {},
   "outputs": [],
   "source": []
  },
  {
   "cell_type": "code",
   "execution_count": 11,
   "metadata": {},
   "outputs": [
    {
     "data": {
      "text/plain": [
       "student_id                    0\n",
       "interaction_duration (min)    0\n",
       "feedback_rating (1-5)         0\n",
       "assignments_completed         0\n",
       "total_interactions            0\n",
       "quiz_score (%)                0\n",
       "final_grade                   0\n",
       "engagement_score              0\n",
       "age                           0\n",
       "learning_style                0\n",
       "participation_label           0\n",
       "dtype: int64"
      ]
     },
     "execution_count": 11,
     "metadata": {},
     "output_type": "execute_result"
    }
   ],
   "source": [
    "data.isnull().sum()"
   ]
  },
  {
   "cell_type": "code",
   "execution_count": 12,
   "metadata": {},
   "outputs": [
    {
     "data": {
      "text/plain": [
       "student_id                    0.0\n",
       "interaction_duration (min)    0.0\n",
       "feedback_rating (1-5)         0.0\n",
       "assignments_completed         0.0\n",
       "total_interactions            0.0\n",
       "quiz_score (%)                0.0\n",
       "final_grade                   0.0\n",
       "engagement_score              0.0\n",
       "age                           0.0\n",
       "learning_style                0.0\n",
       "participation_label           0.0\n",
       "dtype: float64"
      ]
     },
     "execution_count": 12,
     "metadata": {},
     "output_type": "execute_result"
    }
   ],
   "source": [
    "(data.isnull().sum()/(len(data)))*100"
   ]
  },
  {
   "cell_type": "code",
   "execution_count": 13,
   "metadata": {},
   "outputs": [
    {
     "name": "stdout",
     "output_type": "stream",
     "text": [
      "['Kinesthetic' 'Visual' 'Auditory']\n",
      "3\n"
     ]
    }
   ],
   "source": [
    "print(data.learning_style.unique())\n",
    "print(data.learning_style.nunique())"
   ]
  },
  {
   "cell_type": "code",
   "execution_count": 14,
   "metadata": {},
   "outputs": [
    {
     "data": {
      "text/html": [
       "<div>\n",
       "<style scoped>\n",
       "    .dataframe tbody tr th:only-of-type {\n",
       "        vertical-align: middle;\n",
       "    }\n",
       "\n",
       "    .dataframe tbody tr th {\n",
       "        vertical-align: top;\n",
       "    }\n",
       "\n",
       "    .dataframe thead th {\n",
       "        text-align: right;\n",
       "    }\n",
       "</style>\n",
       "<table border=\"1\" class=\"dataframe\">\n",
       "  <thead>\n",
       "    <tr style=\"text-align: right;\">\n",
       "      <th></th>\n",
       "      <th>student_id</th>\n",
       "      <th>interaction_duration (min)</th>\n",
       "      <th>feedback_rating (1-5)</th>\n",
       "      <th>assignments_completed</th>\n",
       "      <th>total_interactions</th>\n",
       "      <th>quiz_score (%)</th>\n",
       "      <th>final_grade</th>\n",
       "      <th>engagement_score</th>\n",
       "      <th>age</th>\n",
       "      <th>learning_style</th>\n",
       "      <th>participation_label</th>\n",
       "    </tr>\n",
       "  </thead>\n",
       "  <tbody>\n",
       "  </tbody>\n",
       "</table>\n",
       "</div>"
      ],
      "text/plain": [
       "Empty DataFrame\n",
       "Columns: [student_id, interaction_duration (min), feedback_rating (1-5), assignments_completed, total_interactions, quiz_score (%), final_grade, engagement_score, age, learning_style, participation_label]\n",
       "Index: []"
      ]
     },
     "execution_count": 14,
     "metadata": {},
     "output_type": "execute_result"
    }
   ],
   "source": [
    "searchfor = ['visual' ,'Kinesthetic\t']\n",
    "data[data.learning_style.str.contains('|'.join(searchfor))].head(5)\n"
   ]
  },
  {
   "cell_type": "code",
   "execution_count": 15,
   "metadata": {},
   "outputs": [],
   "source": [
    "data[\"learning_style\"].replace({\"Visual\": \"visual\", \"Kinesthetic\":\"kinesthetic\" }, inplace=True)"
   ]
  },
  {
   "cell_type": "code",
   "execution_count": 16,
   "metadata": {},
   "outputs": [
    {
     "data": {
      "text/html": [
       "<div>\n",
       "<style scoped>\n",
       "    .dataframe tbody tr th:only-of-type {\n",
       "        vertical-align: middle;\n",
       "    }\n",
       "\n",
       "    .dataframe tbody tr th {\n",
       "        vertical-align: top;\n",
       "    }\n",
       "\n",
       "    .dataframe thead th {\n",
       "        text-align: right;\n",
       "    }\n",
       "</style>\n",
       "<table border=\"1\" class=\"dataframe\">\n",
       "  <thead>\n",
       "    <tr style=\"text-align: right;\">\n",
       "      <th></th>\n",
       "      <th>student_id</th>\n",
       "      <th>interaction_duration (min)</th>\n",
       "      <th>feedback_rating (1-5)</th>\n",
       "      <th>assignments_completed</th>\n",
       "      <th>total_interactions</th>\n",
       "      <th>quiz_score (%)</th>\n",
       "      <th>final_grade</th>\n",
       "      <th>engagement_score</th>\n",
       "      <th>age</th>\n",
       "      <th>learning_style</th>\n",
       "      <th>participation_label</th>\n",
       "    </tr>\n",
       "  </thead>\n",
       "  <tbody>\n",
       "    <tr>\n",
       "      <th>0</th>\n",
       "      <td>1</td>\n",
       "      <td>58</td>\n",
       "      <td>4</td>\n",
       "      <td>4</td>\n",
       "      <td>6</td>\n",
       "      <td>84</td>\n",
       "      <td>C</td>\n",
       "      <td>77</td>\n",
       "      <td>24</td>\n",
       "      <td>kinesthetic</td>\n",
       "      <td>Low</td>\n",
       "    </tr>\n",
       "    <tr>\n",
       "      <th>1</th>\n",
       "      <td>2</td>\n",
       "      <td>48</td>\n",
       "      <td>3</td>\n",
       "      <td>5</td>\n",
       "      <td>6</td>\n",
       "      <td>64</td>\n",
       "      <td>B</td>\n",
       "      <td>81</td>\n",
       "      <td>20</td>\n",
       "      <td>visual</td>\n",
       "      <td>High</td>\n",
       "    </tr>\n",
       "    <tr>\n",
       "      <th>2</th>\n",
       "      <td>3</td>\n",
       "      <td>34</td>\n",
       "      <td>5</td>\n",
       "      <td>1</td>\n",
       "      <td>7</td>\n",
       "      <td>96</td>\n",
       "      <td>B</td>\n",
       "      <td>56</td>\n",
       "      <td>21</td>\n",
       "      <td>kinesthetic</td>\n",
       "      <td>High</td>\n",
       "    </tr>\n",
       "    <tr>\n",
       "      <th>3</th>\n",
       "      <td>4</td>\n",
       "      <td>27</td>\n",
       "      <td>3</td>\n",
       "      <td>4</td>\n",
       "      <td>12</td>\n",
       "      <td>71</td>\n",
       "      <td>A</td>\n",
       "      <td>78</td>\n",
       "      <td>21</td>\n",
       "      <td>kinesthetic</td>\n",
       "      <td>High</td>\n",
       "    </tr>\n",
       "    <tr>\n",
       "      <th>4</th>\n",
       "      <td>5</td>\n",
       "      <td>40</td>\n",
       "      <td>4</td>\n",
       "      <td>5</td>\n",
       "      <td>5</td>\n",
       "      <td>63</td>\n",
       "      <td>C</td>\n",
       "      <td>57</td>\n",
       "      <td>22</td>\n",
       "      <td>visual</td>\n",
       "      <td>High</td>\n",
       "    </tr>\n",
       "  </tbody>\n",
       "</table>\n",
       "</div>"
      ],
      "text/plain": [
       "   student_id  interaction_duration (min)  feedback_rating (1-5)  \\\n",
       "0           1                          58                      4   \n",
       "1           2                          48                      3   \n",
       "2           3                          34                      5   \n",
       "3           4                          27                      3   \n",
       "4           5                          40                      4   \n",
       "\n",
       "   assignments_completed  total_interactions  quiz_score (%) final_grade  \\\n",
       "0                      4                   6              84           C   \n",
       "1                      5                   6              64           B   \n",
       "2                      1                   7              96           B   \n",
       "3                      4                  12              71           A   \n",
       "4                      5                   5              63           C   \n",
       "\n",
       "   engagement_score  age learning_style participation_label  \n",
       "0                77   24    kinesthetic                 Low  \n",
       "1                81   20         visual                High  \n",
       "2                56   21    kinesthetic                High  \n",
       "3                78   21    kinesthetic                High  \n",
       "4                57   22         visual                High  "
      ]
     },
     "execution_count": 16,
     "metadata": {},
     "output_type": "execute_result"
    }
   ],
   "source": [
    "data.head()"
   ]
  },
  {
   "cell_type": "code",
   "execution_count": 17,
   "metadata": {},
   "outputs": [
    {
     "data": {
      "text/html": [
       "<div>\n",
       "<style scoped>\n",
       "    .dataframe tbody tr th:only-of-type {\n",
       "        vertical-align: middle;\n",
       "    }\n",
       "\n",
       "    .dataframe tbody tr th {\n",
       "        vertical-align: top;\n",
       "    }\n",
       "\n",
       "    .dataframe thead th {\n",
       "        text-align: right;\n",
       "    }\n",
       "</style>\n",
       "<table border=\"1\" class=\"dataframe\">\n",
       "  <thead>\n",
       "    <tr style=\"text-align: right;\">\n",
       "      <th></th>\n",
       "      <th>count</th>\n",
       "      <th>mean</th>\n",
       "      <th>std</th>\n",
       "      <th>min</th>\n",
       "      <th>25%</th>\n",
       "      <th>50%</th>\n",
       "      <th>75%</th>\n",
       "      <th>max</th>\n",
       "    </tr>\n",
       "  </thead>\n",
       "  <tbody>\n",
       "    <tr>\n",
       "      <th>student_id</th>\n",
       "      <td>200.0</td>\n",
       "      <td>100.500</td>\n",
       "      <td>57.879185</td>\n",
       "      <td>1.0</td>\n",
       "      <td>50.75</td>\n",
       "      <td>100.5</td>\n",
       "      <td>150.25</td>\n",
       "      <td>200.0</td>\n",
       "    </tr>\n",
       "    <tr>\n",
       "      <th>interaction_duration (min)</th>\n",
       "      <td>200.0</td>\n",
       "      <td>39.575</td>\n",
       "      <td>12.026954</td>\n",
       "      <td>20.0</td>\n",
       "      <td>28.00</td>\n",
       "      <td>41.0</td>\n",
       "      <td>51.00</td>\n",
       "      <td>59.0</td>\n",
       "    </tr>\n",
       "    <tr>\n",
       "      <th>feedback_rating (1-5)</th>\n",
       "      <td>200.0</td>\n",
       "      <td>2.955</td>\n",
       "      <td>1.418816</td>\n",
       "      <td>1.0</td>\n",
       "      <td>2.00</td>\n",
       "      <td>3.0</td>\n",
       "      <td>4.00</td>\n",
       "      <td>5.0</td>\n",
       "    </tr>\n",
       "    <tr>\n",
       "      <th>assignments_completed</th>\n",
       "      <td>200.0</td>\n",
       "      <td>3.145</td>\n",
       "      <td>1.467906</td>\n",
       "      <td>1.0</td>\n",
       "      <td>2.00</td>\n",
       "      <td>3.0</td>\n",
       "      <td>4.25</td>\n",
       "      <td>5.0</td>\n",
       "    </tr>\n",
       "    <tr>\n",
       "      <th>total_interactions</th>\n",
       "      <td>200.0</td>\n",
       "      <td>8.695</td>\n",
       "      <td>3.290305</td>\n",
       "      <td>4.0</td>\n",
       "      <td>6.00</td>\n",
       "      <td>8.0</td>\n",
       "      <td>12.00</td>\n",
       "      <td>14.0</td>\n",
       "    </tr>\n",
       "    <tr>\n",
       "      <th>quiz_score (%)</th>\n",
       "      <td>200.0</td>\n",
       "      <td>73.880</td>\n",
       "      <td>14.412292</td>\n",
       "      <td>50.0</td>\n",
       "      <td>61.00</td>\n",
       "      <td>74.0</td>\n",
       "      <td>86.00</td>\n",
       "      <td>99.0</td>\n",
       "    </tr>\n",
       "    <tr>\n",
       "      <th>engagement_score</th>\n",
       "      <td>200.0</td>\n",
       "      <td>70.375</td>\n",
       "      <td>11.330768</td>\n",
       "      <td>50.0</td>\n",
       "      <td>60.75</td>\n",
       "      <td>70.5</td>\n",
       "      <td>80.25</td>\n",
       "      <td>89.0</td>\n",
       "    </tr>\n",
       "    <tr>\n",
       "      <th>age</th>\n",
       "      <td>200.0</td>\n",
       "      <td>20.865</td>\n",
       "      <td>1.961123</td>\n",
       "      <td>18.0</td>\n",
       "      <td>19.00</td>\n",
       "      <td>21.0</td>\n",
       "      <td>22.00</td>\n",
       "      <td>24.0</td>\n",
       "    </tr>\n",
       "  </tbody>\n",
       "</table>\n",
       "</div>"
      ],
      "text/plain": [
       "                            count     mean        std   min    25%    50%  \\\n",
       "student_id                  200.0  100.500  57.879185   1.0  50.75  100.5   \n",
       "interaction_duration (min)  200.0   39.575  12.026954  20.0  28.00   41.0   \n",
       "feedback_rating (1-5)       200.0    2.955   1.418816   1.0   2.00    3.0   \n",
       "assignments_completed       200.0    3.145   1.467906   1.0   2.00    3.0   \n",
       "total_interactions          200.0    8.695   3.290305   4.0   6.00    8.0   \n",
       "quiz_score (%)              200.0   73.880  14.412292  50.0  61.00   74.0   \n",
       "engagement_score            200.0   70.375  11.330768  50.0  60.75   70.5   \n",
       "age                         200.0   20.865   1.961123  18.0  19.00   21.0   \n",
       "\n",
       "                               75%    max  \n",
       "student_id                  150.25  200.0  \n",
       "interaction_duration (min)   51.00   59.0  \n",
       "feedback_rating (1-5)         4.00    5.0  \n",
       "assignments_completed         4.25    5.0  \n",
       "total_interactions           12.00   14.0  \n",
       "quiz_score (%)               86.00   99.0  \n",
       "engagement_score             80.25   89.0  \n",
       "age                          22.00   24.0  "
      ]
     },
     "execution_count": 17,
     "metadata": {},
     "output_type": "execute_result"
    }
   ],
   "source": [
    "data.describe().T"
   ]
  },
  {
   "cell_type": "code",
   "execution_count": 18,
   "metadata": {},
   "outputs": [
    {
     "data": {
      "text/html": [
       "<div>\n",
       "<style scoped>\n",
       "    .dataframe tbody tr th:only-of-type {\n",
       "        vertical-align: middle;\n",
       "    }\n",
       "\n",
       "    .dataframe tbody tr th {\n",
       "        vertical-align: top;\n",
       "    }\n",
       "\n",
       "    .dataframe thead th {\n",
       "        text-align: right;\n",
       "    }\n",
       "</style>\n",
       "<table border=\"1\" class=\"dataframe\">\n",
       "  <thead>\n",
       "    <tr style=\"text-align: right;\">\n",
       "      <th></th>\n",
       "      <th>count</th>\n",
       "      <th>unique</th>\n",
       "      <th>top</th>\n",
       "      <th>freq</th>\n",
       "      <th>mean</th>\n",
       "      <th>std</th>\n",
       "      <th>min</th>\n",
       "      <th>25%</th>\n",
       "      <th>50%</th>\n",
       "      <th>75%</th>\n",
       "      <th>max</th>\n",
       "    </tr>\n",
       "  </thead>\n",
       "  <tbody>\n",
       "    <tr>\n",
       "      <th>student_id</th>\n",
       "      <td>200.0</td>\n",
       "      <td>NaN</td>\n",
       "      <td>NaN</td>\n",
       "      <td>NaN</td>\n",
       "      <td>100.5</td>\n",
       "      <td>57.879185</td>\n",
       "      <td>1.0</td>\n",
       "      <td>50.75</td>\n",
       "      <td>100.5</td>\n",
       "      <td>150.25</td>\n",
       "      <td>200.0</td>\n",
       "    </tr>\n",
       "    <tr>\n",
       "      <th>interaction_duration (min)</th>\n",
       "      <td>200.0</td>\n",
       "      <td>NaN</td>\n",
       "      <td>NaN</td>\n",
       "      <td>NaN</td>\n",
       "      <td>39.575</td>\n",
       "      <td>12.026954</td>\n",
       "      <td>20.0</td>\n",
       "      <td>28.0</td>\n",
       "      <td>41.0</td>\n",
       "      <td>51.0</td>\n",
       "      <td>59.0</td>\n",
       "    </tr>\n",
       "    <tr>\n",
       "      <th>feedback_rating (1-5)</th>\n",
       "      <td>200.0</td>\n",
       "      <td>NaN</td>\n",
       "      <td>NaN</td>\n",
       "      <td>NaN</td>\n",
       "      <td>2.955</td>\n",
       "      <td>1.418816</td>\n",
       "      <td>1.0</td>\n",
       "      <td>2.0</td>\n",
       "      <td>3.0</td>\n",
       "      <td>4.0</td>\n",
       "      <td>5.0</td>\n",
       "    </tr>\n",
       "    <tr>\n",
       "      <th>assignments_completed</th>\n",
       "      <td>200.0</td>\n",
       "      <td>NaN</td>\n",
       "      <td>NaN</td>\n",
       "      <td>NaN</td>\n",
       "      <td>3.145</td>\n",
       "      <td>1.467906</td>\n",
       "      <td>1.0</td>\n",
       "      <td>2.0</td>\n",
       "      <td>3.0</td>\n",
       "      <td>4.25</td>\n",
       "      <td>5.0</td>\n",
       "    </tr>\n",
       "    <tr>\n",
       "      <th>total_interactions</th>\n",
       "      <td>200.0</td>\n",
       "      <td>NaN</td>\n",
       "      <td>NaN</td>\n",
       "      <td>NaN</td>\n",
       "      <td>8.695</td>\n",
       "      <td>3.290305</td>\n",
       "      <td>4.0</td>\n",
       "      <td>6.0</td>\n",
       "      <td>8.0</td>\n",
       "      <td>12.0</td>\n",
       "      <td>14.0</td>\n",
       "    </tr>\n",
       "    <tr>\n",
       "      <th>quiz_score (%)</th>\n",
       "      <td>200.0</td>\n",
       "      <td>NaN</td>\n",
       "      <td>NaN</td>\n",
       "      <td>NaN</td>\n",
       "      <td>73.88</td>\n",
       "      <td>14.412292</td>\n",
       "      <td>50.0</td>\n",
       "      <td>61.0</td>\n",
       "      <td>74.0</td>\n",
       "      <td>86.0</td>\n",
       "      <td>99.0</td>\n",
       "    </tr>\n",
       "    <tr>\n",
       "      <th>final_grade</th>\n",
       "      <td>200</td>\n",
       "      <td>3</td>\n",
       "      <td>C</td>\n",
       "      <td>71</td>\n",
       "      <td>NaN</td>\n",
       "      <td>NaN</td>\n",
       "      <td>NaN</td>\n",
       "      <td>NaN</td>\n",
       "      <td>NaN</td>\n",
       "      <td>NaN</td>\n",
       "      <td>NaN</td>\n",
       "    </tr>\n",
       "    <tr>\n",
       "      <th>engagement_score</th>\n",
       "      <td>200.0</td>\n",
       "      <td>NaN</td>\n",
       "      <td>NaN</td>\n",
       "      <td>NaN</td>\n",
       "      <td>70.375</td>\n",
       "      <td>11.330768</td>\n",
       "      <td>50.0</td>\n",
       "      <td>60.75</td>\n",
       "      <td>70.5</td>\n",
       "      <td>80.25</td>\n",
       "      <td>89.0</td>\n",
       "    </tr>\n",
       "    <tr>\n",
       "      <th>age</th>\n",
       "      <td>200.0</td>\n",
       "      <td>NaN</td>\n",
       "      <td>NaN</td>\n",
       "      <td>NaN</td>\n",
       "      <td>20.865</td>\n",
       "      <td>1.961123</td>\n",
       "      <td>18.0</td>\n",
       "      <td>19.0</td>\n",
       "      <td>21.0</td>\n",
       "      <td>22.0</td>\n",
       "      <td>24.0</td>\n",
       "    </tr>\n",
       "    <tr>\n",
       "      <th>learning_style</th>\n",
       "      <td>200</td>\n",
       "      <td>3</td>\n",
       "      <td>kinesthetic</td>\n",
       "      <td>67</td>\n",
       "      <td>NaN</td>\n",
       "      <td>NaN</td>\n",
       "      <td>NaN</td>\n",
       "      <td>NaN</td>\n",
       "      <td>NaN</td>\n",
       "      <td>NaN</td>\n",
       "      <td>NaN</td>\n",
       "    </tr>\n",
       "    <tr>\n",
       "      <th>participation_label</th>\n",
       "      <td>200</td>\n",
       "      <td>4</td>\n",
       "      <td>Low</td>\n",
       "      <td>60</td>\n",
       "      <td>NaN</td>\n",
       "      <td>NaN</td>\n",
       "      <td>NaN</td>\n",
       "      <td>NaN</td>\n",
       "      <td>NaN</td>\n",
       "      <td>NaN</td>\n",
       "      <td>NaN</td>\n",
       "    </tr>\n",
       "  </tbody>\n",
       "</table>\n",
       "</div>"
      ],
      "text/plain": [
       "                            count unique          top freq    mean        std  \\\n",
       "student_id                  200.0    NaN          NaN  NaN   100.5  57.879185   \n",
       "interaction_duration (min)  200.0    NaN          NaN  NaN  39.575  12.026954   \n",
       "feedback_rating (1-5)       200.0    NaN          NaN  NaN   2.955   1.418816   \n",
       "assignments_completed       200.0    NaN          NaN  NaN   3.145   1.467906   \n",
       "total_interactions          200.0    NaN          NaN  NaN   8.695   3.290305   \n",
       "quiz_score (%)              200.0    NaN          NaN  NaN   73.88  14.412292   \n",
       "final_grade                   200      3            C   71     NaN        NaN   \n",
       "engagement_score            200.0    NaN          NaN  NaN  70.375  11.330768   \n",
       "age                         200.0    NaN          NaN  NaN  20.865   1.961123   \n",
       "learning_style                200      3  kinesthetic   67     NaN        NaN   \n",
       "participation_label           200      4          Low   60     NaN        NaN   \n",
       "\n",
       "                             min    25%    50%     75%    max  \n",
       "student_id                   1.0  50.75  100.5  150.25  200.0  \n",
       "interaction_duration (min)  20.0   28.0   41.0    51.0   59.0  \n",
       "feedback_rating (1-5)        1.0    2.0    3.0     4.0    5.0  \n",
       "assignments_completed        1.0    2.0    3.0    4.25    5.0  \n",
       "total_interactions           4.0    6.0    8.0    12.0   14.0  \n",
       "quiz_score (%)              50.0   61.0   74.0    86.0   99.0  \n",
       "final_grade                  NaN    NaN    NaN     NaN    NaN  \n",
       "engagement_score            50.0  60.75   70.5   80.25   89.0  \n",
       "age                         18.0   19.0   21.0    22.0   24.0  \n",
       "learning_style               NaN    NaN    NaN     NaN    NaN  \n",
       "participation_label          NaN    NaN    NaN     NaN    NaN  "
      ]
     },
     "execution_count": 18,
     "metadata": {},
     "output_type": "execute_result"
    }
   ],
   "source": [
    "data.describe(include='all').T"
   ]
  },
  {
   "cell_type": "code",
   "execution_count": 19,
   "metadata": {},
   "outputs": [
    {
     "name": "stdout",
     "output_type": "stream",
     "text": [
      "Categorical Variables:\n",
      "Index(['final_grade', 'learning_style', 'participation_label'], dtype='object')\n",
      "Numerical Variables:\n",
      "['student_id', 'interaction_duration (min)', 'feedback_rating (1-5)', 'assignments_completed', 'total_interactions', 'quiz_score (%)', 'engagement_score', 'age']\n"
     ]
    }
   ],
   "source": [
    "cat_cols=data.select_dtypes(include=['object']).columns\n",
    "num_cols = data.select_dtypes(include=np.number).columns.tolist()\n",
    "print(\"Categorical Variables:\")\n",
    "print(cat_cols)\n",
    "print(\"Numerical Variables:\")\n",
    "print(num_cols)"
   ]
  },
  {
   "cell_type": "code",
   "execution_count": 20,
   "metadata": {},
   "outputs": [
    {
     "name": "stdout",
     "output_type": "stream",
     "text": [
      "student_id\n",
      "Skew : 0.0\n"
     ]
    },
    {
     "data": {
      "image/png": "[encoded data removed]",
      "text/plain": [
       "<Figure size 1500x400 with 2 Axes>"
      ]
     },
     "metadata": {},
     "output_type": "display_data"
    },
    {
     "name": "stdout",
     "output_type": "stream",
     "text": [
      "interaction_duration (min)\n",
      "Skew : -0.05\n"
     ]
    },
    {
     "data": {
      "image/png": "[encoded data removed]",
      "text/plain": [
       "<Figure size 1500x400 with 2 Axes>"
      ]
     },
     "metadata": {},
     "output_type": "display_data"
    },
    {
     "name": "stdout",
     "output_type": "stream",
     "text": [
      "feedback_rating (1-5)\n",
      "Skew : -0.01\n"
     ]
    },
    {
     "data": {
      "image/png": "[encoded data removed]",
      "text/plain": [
       "<Figure size 1500x400 with 2 Axes>"
      ]
     },
     "metadata": {},
     "output_type": "display_data"
    },
    {
     "name": "stdout",
     "output_type": "stream",
     "text": [
      "assignments_completed\n",
      "Skew : -0.14\n"
     ]
    },
    {
     "data": {
      "image/png": "[encoded data removed]",
      "text/plain": [
       "<Figure size 1500x400 with 2 Axes>"
      ]
     },
     "metadata": {},
     "output_type": "display_data"
    },
    {
     "name": "stdout",
     "output_type": "stream",
     "text": [
      "total_interactions\n",
      "Skew : 0.1\n"
     ]
    },
    {
     "data": {
      "image/png": "[encoded data removed]",
      "text/plain": [
       "<Figure size 1500x400 with 2 Axes>"
      ]
     },
     "metadata": {},
     "output_type": "display_data"
    },
    {
     "name": "stdout",
     "output_type": "stream",
     "text": [
      "quiz_score (%)\n",
      "Skew : 0.02\n"
     ]
    },
    {
     "data": {
      "image/png": "[encoded data removed]",
      "text/plain": [
       "<Figure size 1500x400 with 2 Axes>"
      ]
     },
     "metadata": {},
     "output_type": "display_data"
    },
    {
     "name": "stdout",
     "output_type": "stream",
     "text": [
      "engagement_score\n",
      "Skew : -0.06\n"
     ]
    },
    {
     "data": {
      "image/png": "[encoded data removed]",
      "text/plain": [
       "<Figure size 1500x400 with 2 Axes>"
      ]
     },
     "metadata": {},
     "output_type": "display_data"
    },
    {
     "name": "stdout",
     "output_type": "stream",
     "text": [
      "age\n",
      "Skew : 0.03\n"
     ]
    },
    {
     "data": {
      "image/png": "[encoded data removed]",
      "text/plain": [
       "<Figure size 1500x400 with 2 Axes>"
      ]
     },
     "metadata": {},
     "output_type": "display_data"
    }
   ],
   "source": [
    "for col in num_cols:\n",
    "    print(col)\n",
    "    print('Skew :', round(data[col].skew(), 2))\n",
    "    plt.figure(figsize = (15, 4))\n",
    "    plt.subplot(1, 2, 1)\n",
    "    data[col].hist(grid=False)\n",
    "    plt.ylabel('count')\n",
    "    plt.subplot(1, 2, 2)\n",
    "    sns.boxplot(x=data[col])\n",
    "    plt.show()"
   ]
  },
  {
   "cell_type": "code",
   "execution_count": 21,
   "metadata": {},
   "outputs": [
    {
     "data": {
      "text/plain": [
       "Index(['student_id', 'interaction_duration (min)', 'feedback_rating (1-5)',\n",
       "       'assignments_completed', 'total_interactions', 'quiz_score (%)',\n",
       "       'final_grade', 'engagement_score', 'age', 'learning_style',\n",
       "       'participation_label'],\n",
       "      dtype='object')"
      ]
     },
     "execution_count": 21,
     "metadata": {},
     "output_type": "execute_result"
    }
   ],
   "source": [
    "data.columns"
   ]
  },
  {
   "cell_type": "code",
   "execution_count": 22,
   "metadata": {},
   "outputs": [
    {
     "data": {
      "text/html": [
       "<div>\n",
       "<style scoped>\n",
       "    .dataframe tbody tr th:only-of-type {\n",
       "        vertical-align: middle;\n",
       "    }\n",
       "\n",
       "    .dataframe tbody tr th {\n",
       "        vertical-align: top;\n",
       "    }\n",
       "\n",
       "    .dataframe thead th {\n",
       "        text-align: right;\n",
       "    }\n",
       "</style>\n",
       "<table border=\"1\" class=\"dataframe\">\n",
       "  <thead>\n",
       "    <tr style=\"text-align: right;\">\n",
       "      <th></th>\n",
       "      <th>student_id</th>\n",
       "      <th>interaction_duration (min)</th>\n",
       "      <th>feedback_rating (1-5)</th>\n",
       "      <th>assignments_completed</th>\n",
       "      <th>total_interactions</th>\n",
       "      <th>quiz_score (%)</th>\n",
       "      <th>final_grade</th>\n",
       "      <th>engagement_score</th>\n",
       "      <th>age</th>\n",
       "      <th>learning_style</th>\n",
       "      <th>participation_label</th>\n",
       "    </tr>\n",
       "  </thead>\n",
       "  <tbody>\n",
       "  </tbody>\n",
       "</table>\n",
       "</div>"
      ],
      "text/plain": [
       "Empty DataFrame\n",
       "Columns: [student_id, interaction_duration (min), feedback_rating (1-5), assignments_completed, total_interactions, quiz_score (%), final_grade, engagement_score, age, learning_style, participation_label]\n",
       "Index: []"
      ]
     },
     "execution_count": 22,
     "metadata": {},
     "output_type": "execute_result"
    }
   ],
   "source": [
    "data.loc[data.isna().any(axis=\"columns\")]"
   ]
  },
  {
   "cell_type": "code",
   "execution_count": 23,
   "metadata": {},
   "outputs": [
    {
     "data": {
      "text/html": [
       "<div>\n",
       "<style scoped>\n",
       "    .dataframe tbody tr th:only-of-type {\n",
       "        vertical-align: middle;\n",
       "    }\n",
       "\n",
       "    .dataframe tbody tr th {\n",
       "        vertical-align: top;\n",
       "    }\n",
       "\n",
       "    .dataframe thead th {\n",
       "        text-align: right;\n",
       "    }\n",
       "</style>\n",
       "<table border=\"1\" class=\"dataframe\">\n",
       "  <thead>\n",
       "    <tr style=\"text-align: right;\">\n",
       "      <th></th>\n",
       "      <th>student_id</th>\n",
       "      <th>interaction_duration (min)</th>\n",
       "      <th>feedback_rating (1-5)</th>\n",
       "      <th>assignments_completed</th>\n",
       "      <th>total_interactions</th>\n",
       "      <th>quiz_score (%)</th>\n",
       "      <th>final_grade</th>\n",
       "      <th>engagement_score</th>\n",
       "      <th>age</th>\n",
       "      <th>learning_style</th>\n",
       "      <th>participation_label</th>\n",
       "    </tr>\n",
       "  </thead>\n",
       "  <tbody>\n",
       "    <tr>\n",
       "      <th>0</th>\n",
       "      <td>1</td>\n",
       "      <td>58</td>\n",
       "      <td>4</td>\n",
       "      <td>4</td>\n",
       "      <td>6</td>\n",
       "      <td>84</td>\n",
       "      <td>C</td>\n",
       "      <td>77</td>\n",
       "      <td>24</td>\n",
       "      <td>kinesthetic</td>\n",
       "      <td>Low</td>\n",
       "    </tr>\n",
       "    <tr>\n",
       "      <th>1</th>\n",
       "      <td>2</td>\n",
       "      <td>48</td>\n",
       "      <td>3</td>\n",
       "      <td>5</td>\n",
       "      <td>6</td>\n",
       "      <td>64</td>\n",
       "      <td>B</td>\n",
       "      <td>81</td>\n",
       "      <td>20</td>\n",
       "      <td>visual</td>\n",
       "      <td>High</td>\n",
       "    </tr>\n",
       "    <tr>\n",
       "      <th>2</th>\n",
       "      <td>3</td>\n",
       "      <td>34</td>\n",
       "      <td>5</td>\n",
       "      <td>1</td>\n",
       "      <td>7</td>\n",
       "      <td>96</td>\n",
       "      <td>B</td>\n",
       "      <td>56</td>\n",
       "      <td>21</td>\n",
       "      <td>kinesthetic</td>\n",
       "      <td>High</td>\n",
       "    </tr>\n",
       "    <tr>\n",
       "      <th>3</th>\n",
       "      <td>4</td>\n",
       "      <td>27</td>\n",
       "      <td>3</td>\n",
       "      <td>4</td>\n",
       "      <td>12</td>\n",
       "      <td>71</td>\n",
       "      <td>A</td>\n",
       "      <td>78</td>\n",
       "      <td>21</td>\n",
       "      <td>kinesthetic</td>\n",
       "      <td>High</td>\n",
       "    </tr>\n",
       "    <tr>\n",
       "      <th>4</th>\n",
       "      <td>5</td>\n",
       "      <td>40</td>\n",
       "      <td>4</td>\n",
       "      <td>5</td>\n",
       "      <td>5</td>\n",
       "      <td>63</td>\n",
       "      <td>C</td>\n",
       "      <td>57</td>\n",
       "      <td>22</td>\n",
       "      <td>visual</td>\n",
       "      <td>High</td>\n",
       "    </tr>\n",
       "  </tbody>\n",
       "</table>\n",
       "</div>"
      ],
      "text/plain": [
       "   student_id  interaction_duration (min)  feedback_rating (1-5)  \\\n",
       "0           1                          58                      4   \n",
       "1           2                          48                      3   \n",
       "2           3                          34                      5   \n",
       "3           4                          27                      3   \n",
       "4           5                          40                      4   \n",
       "\n",
       "   assignments_completed  total_interactions  quiz_score (%) final_grade  \\\n",
       "0                      4                   6              84           C   \n",
       "1                      5                   6              64           B   \n",
       "2                      1                   7              96           B   \n",
       "3                      4                  12              71           A   \n",
       "4                      5                   5              63           C   \n",
       "\n",
       "   engagement_score  age learning_style participation_label  \n",
       "0                77   24    kinesthetic                 Low  \n",
       "1                81   20         visual                High  \n",
       "2                56   21    kinesthetic                High  \n",
       "3                78   21    kinesthetic                High  \n",
       "4                57   22         visual                High  "
      ]
     },
     "execution_count": 23,
     "metadata": {},
     "output_type": "execute_result"
    }
   ],
   "source": [
    "data[\n",
    "    ['student_id', 'interaction_duration (min)', 'feedback_rating (1-5)',\n",
    "       'assignments_completed', 'total_interactions', 'quiz_score (%)',\n",
    "       'final_grade', 'engagement_score', 'age', 'learning_style',\n",
    "       'participation_label']\n",
    "].head()\n"
   ]
  },
  {
   "cell_type": "code",
   "execution_count": 26,
   "metadata": {},
   "outputs": [
    {
     "data": {
      "text/html": [
       "<div>\n",
       "<style scoped>\n",
       "    .dataframe tbody tr th:only-of-type {\n",
       "        vertical-align: middle;\n",
       "    }\n",
       "\n",
       "    .dataframe tbody tr th {\n",
       "        vertical-align: top;\n",
       "    }\n",
       "\n",
       "    .dataframe thead th {\n",
       "        text-align: right;\n",
       "    }\n",
       "</style>\n",
       "<table border=\"1\" class=\"dataframe\">\n",
       "  <thead>\n",
       "    <tr style=\"text-align: right;\">\n",
       "      <th></th>\n",
       "      <th>engagement_score</th>\n",
       "      <th>age</th>\n",
       "    </tr>\n",
       "  </thead>\n",
       "  <tbody>\n",
       "    <tr>\n",
       "      <th>count</th>\n",
       "      <td>200.000000</td>\n",
       "      <td>200.000000</td>\n",
       "    </tr>\n",
       "    <tr>\n",
       "      <th>mean</th>\n",
       "      <td>70.375000</td>\n",
       "      <td>20.865000</td>\n",
       "    </tr>\n",
       "    <tr>\n",
       "      <th>std</th>\n",
       "      <td>11.330768</td>\n",
       "      <td>1.961123</td>\n",
       "    </tr>\n",
       "    <tr>\n",
       "      <th>min</th>\n",
       "      <td>50.000000</td>\n",
       "      <td>18.000000</td>\n",
       "    </tr>\n",
       "    <tr>\n",
       "      <th>25%</th>\n",
       "      <td>60.750000</td>\n",
       "      <td>19.000000</td>\n",
       "    </tr>\n",
       "    <tr>\n",
       "      <th>50%</th>\n",
       "      <td>70.500000</td>\n",
       "      <td>21.000000</td>\n",
       "    </tr>\n",
       "    <tr>\n",
       "      <th>75%</th>\n",
       "      <td>80.250000</td>\n",
       "      <td>22.000000</td>\n",
       "    </tr>\n",
       "    <tr>\n",
       "      <th>max</th>\n",
       "      <td>89.000000</td>\n",
       "      <td>24.000000</td>\n",
       "    </tr>\n",
       "  </tbody>\n",
       "</table>\n",
       "</div>"
      ],
      "text/plain": [
       "       engagement_score         age\n",
       "count        200.000000  200.000000\n",
       "mean          70.375000   20.865000\n",
       "std           11.330768    1.961123\n",
       "min           50.000000   18.000000\n",
       "25%           60.750000   19.000000\n",
       "50%           70.500000   21.000000\n",
       "75%           80.250000   22.000000\n",
       "max           89.000000   24.000000"
      ]
     },
     "execution_count": 26,
     "metadata": {},
     "output_type": "execute_result"
    }
   ],
   "source": [
    "data[[\"engagement_score\", \"age\"]].describe()"
   ]
  },
  {
   "cell_type": "code",
   "execution_count": 27,
   "metadata": {},
   "outputs": [
    {
     "data": {
      "text/html": [
       "<div>\n",
       "<style scoped>\n",
       "    .dataframe tbody tr th:only-of-type {\n",
       "        vertical-align: middle;\n",
       "    }\n",
       "\n",
       "    .dataframe tbody tr th {\n",
       "        vertical-align: top;\n",
       "    }\n",
       "\n",
       "    .dataframe thead th {\n",
       "        text-align: right;\n",
       "    }\n",
       "</style>\n",
       "<table border=\"1\" class=\"dataframe\">\n",
       "  <thead>\n",
       "    <tr style=\"text-align: right;\">\n",
       "      <th></th>\n",
       "      <th>student_id</th>\n",
       "      <th>interaction_duration (min)</th>\n",
       "      <th>feedback_rating (1-5)</th>\n",
       "      <th>assignments_completed</th>\n",
       "      <th>total_interactions</th>\n",
       "      <th>quiz_score (%)</th>\n",
       "      <th>final_grade</th>\n",
       "      <th>engagement_score</th>\n",
       "      <th>age</th>\n",
       "      <th>learning_style</th>\n",
       "      <th>participation_label</th>\n",
       "    </tr>\n",
       "  </thead>\n",
       "  <tbody>\n",
       "  </tbody>\n",
       "</table>\n",
       "</div>"
      ],
      "text/plain": [
       "Empty DataFrame\n",
       "Columns: [student_id, interaction_duration (min), feedback_rating (1-5), assignments_completed, total_interactions, quiz_score (%), final_grade, engagement_score, age, learning_style, participation_label]\n",
       "Index: []"
      ]
     },
     "execution_count": 27,
     "metadata": {},
     "output_type": "execute_result"
    }
   ],
   "source": [
    "data.loc[data.duplicated(keep=False)]"
   ]
  },
  {
   "cell_type": "code",
   "execution_count": 25,
   "metadata": {},
   "outputs": [
    {
     "data": {
      "image/png": "[encoded data removed]",
      "text/plain": [
       "<Figure size 640x480 with 1 Axes>"
      ]
     },
     "metadata": {},
     "output_type": "display_data"
    }
   ],
   "source": [
    "fig, ax = plt.subplots()\n",
    "ax.scatter(data[\"engagement_score\"], data[\"age\"])\n",
    "ax.set_title(\"Scatter Plot of score\")\n",
    "ax.set_xlabel(\"engagement score\")\n",
    "ax.set_ylabel(\"Average age\")\n",
    "fig.show()"
   ]
  },
  {
   "cell_type": "code",
   "execution_count": 28,
   "metadata": {},
   "outputs": [
    {
     "data": {
      "image/png": "[encoded data removed]",
      "text/plain": [
       "<Figure size 640x480 with 1 Axes>"
      ]
     },
     "metadata": {},
     "output_type": "display_data"
    }
   ],
   "source": [
    "fig, ax = plt.subplots()\n",
    "length = data[\"engagement_score\"].value_counts(bins=7).sort_index()\n",
    "length.plot.bar(\n",
    "    ax=ax,\n",
    "    title=\" Engagement_Score Distribution\",\n",
    "    xlabel=\"Time Range (mins)\",\n",
    "    ylabel=\"Count\",\n",
    ")\n",
    "fig.show()"
   ]
  },
  {
   "cell_type": "code",
   "execution_count": 29,
   "metadata": {},
   "outputs": [
    {
     "data": {
      "text/plain": [
       "min     50.000000\n",
       "max     89.000000\n",
       "mean    70.375000\n",
       "std     11.330768\n",
       "Name: engagement_score, dtype: float64"
      ]
     },
     "execution_count": 29,
     "metadata": {},
     "output_type": "execute_result"
    }
   ],
   "source": [
    "data[\"engagement_score\"].agg([\"min\", \"max\", \"mean\", \"std\"])\n"
   ]
  },
  {
   "cell_type": "code",
   "execution_count": 30,
   "metadata": {},
   "outputs": [
    {
     "data": {
      "image/png": "[encoded data removed]",
      "text/plain": [
       "<Figure size 640x480 with 1 Axes>"
      ]
     },
     "metadata": {},
     "output_type": "display_data"
    }
   ],
   "source": [
    "fig, ax = plt.subplots()\n",
    "ax.scatter(data[\"engagement_score\"], data[\"age\"])\n",
    "ax.set_title(\"Scatter Plot of Scores vs age\")\n",
    "ax.set_xlabel(\"Scores\")\n",
    "ax.set_ylabel(\"age\")\n",
    "fig.show()"
   ]
  }
 ],
 "metadata": {
  "kernelspec": {
   "display_name": "Python 3",
   "language": "python",
   "name": "python3"
  },
  "language_info": {
   "codemirror_mode": {
    "name": "ipython",
    "version": 3
   },
   "file_extension": ".py",
   "mimetype": "text/x-python",
   "name": "python",
   "nbconvert_exporter": "python",
   "pygments_lexer": "ipython3",
   "version": "3.12.0"
  }
 },
 "nbformat": 4,
 "nbformat_minor": 2
}
